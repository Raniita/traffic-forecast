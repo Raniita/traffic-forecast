{
 "cells": [
  {
   "cell_type": "code",
   "execution_count": 3,
   "metadata": {},
   "outputs": [],
   "source": [
    "import pandas as pd"
   ]
  },
  {
   "cell_type": "code",
   "execution_count": 2,
   "metadata": {},
   "outputs": [],
   "source": [
    "file_csv = \"../data_test/network0-test_data.csv\""
   ]
  },
  {
   "cell_type": "code",
   "execution_count": 5,
   "metadata": {},
   "outputs": [
    {
     "name": "stdout",
     "output_type": "stream",
     "text": [
      "              timestamp interface   TX   RX\n",
      "0   2022-11-02T08:05:00      if-0   10   40\n",
      "1   2022-11-02T08:05:00      if-1   30    5\n",
      "2   2022-11-02T08:10:00      if-0   20   33\n",
      "3   2022-11-02T08:10:00      if-1  100   20\n",
      "4   2022-11-02T08:15:00      if-0   40   34\n",
      "5   2022-11-02T08:15:00      if-1    2   25\n",
      "6   2022-11-02T08:20:00      if-0   40   22\n",
      "7   2022-11-02T08:20:00      if-1   55  100\n",
      "8   2022-11-02T08:25:00      if-0  230  500\n",
      "9   2022-11-02T08:25:00      if-1  300   10\n",
      "10  2022-11-02T08:30:00      if-0    6   50\n",
      "11  2022-11-02T08:30:00      if-1   20   55\n",
      "12  2022-11-02T08:35:00      if-0   50   22\n",
      "13  2022-11-02T08:35:00      if-1  540  100\n",
      "14  2022-11-02T08:40:00      if-0   20  100\n",
      "15  2022-11-02T08:40:00      if-1  500  200\n",
      "16  2022-11-02T08:45:00      if-0  100   20\n",
      "17  2022-11-02T08:45:00      if-1    5   10\n",
      "18  2022-11-02T08:50:00      if-0   20    1\n",
      "19  2022-11-02T08:50:00      if-1  200    6\n"
     ]
    }
   ],
   "source": [
    "df = pd.read_csv(file_csv)\n",
    "print(df)"
   ]
  },
  {
   "cell_type": "code",
   "execution_count": 12,
   "metadata": {},
   "outputs": [
    {
     "name": "stdout",
     "output_type": "stream",
     "text": [
      "['if-0' 'if-1']\n",
      "[              timestamp interface   TX   RX\n",
      "0   2022-11-02T08:05:00      if-0   10   40\n",
      "2   2022-11-02T08:10:00      if-0   20   33\n",
      "4   2022-11-02T08:15:00      if-0   40   34\n",
      "6   2022-11-02T08:20:00      if-0   40   22\n",
      "8   2022-11-02T08:25:00      if-0  230  500\n",
      "10  2022-11-02T08:30:00      if-0    6   50\n",
      "12  2022-11-02T08:35:00      if-0   50   22\n",
      "14  2022-11-02T08:40:00      if-0   20  100\n",
      "16  2022-11-02T08:45:00      if-0  100   20\n",
      "18  2022-11-02T08:50:00      if-0   20    1,               timestamp interface   TX   RX\n",
      "1   2022-11-02T08:05:00      if-1   30    5\n",
      "3   2022-11-02T08:10:00      if-1  100   20\n",
      "5   2022-11-02T08:15:00      if-1    2   25\n",
      "7   2022-11-02T08:20:00      if-1   55  100\n",
      "9   2022-11-02T08:25:00      if-1  300   10\n",
      "11  2022-11-02T08:30:00      if-1   20   55\n",
      "13  2022-11-02T08:35:00      if-1  540  100\n",
      "15  2022-11-02T08:40:00      if-1  500  200\n",
      "17  2022-11-02T08:45:00      if-1    5   10\n",
      "19  2022-11-02T08:50:00      if-1  200    6]\n"
     ]
    }
   ],
   "source": [
    "# Interfaces inside dataframe\n",
    "interfaces = df[\"interface\"].unique()\n",
    "print(interfaces)\n",
    "\n",
    "# Filtering\n",
    "df_if = []\n",
    "for inter in interfaces:\n",
    "    df_if.append(df[df.interface == inter])\n",
    "\n",
    "print(df_if)"
   ]
  }
 ],
 "metadata": {
  "kernelspec": {
   "display_name": "Python 3.10.8 ('env': venv)",
   "language": "python",
   "name": "python3"
  },
  "language_info": {
   "codemirror_mode": {
    "name": "ipython",
    "version": 3
   },
   "file_extension": ".py",
   "mimetype": "text/x-python",
   "name": "python",
   "nbconvert_exporter": "python",
   "pygments_lexer": "ipython3",
   "version": "3.10.8"
  },
  "orig_nbformat": 4,
  "vscode": {
   "interpreter": {
    "hash": "5590734642b40a949620faef6d50e52da5c5fd17029688b563f016c3244f7c03"
   }
  }
 },
 "nbformat": 4,
 "nbformat_minor": 2
}
