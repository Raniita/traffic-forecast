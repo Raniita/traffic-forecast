{
 "cells": [
  {
   "cell_type": "markdown",
   "metadata": {},
   "source": [
    "# Ejemplos InfluxDB para Time Series"
   ]
  },
  {
   "cell_type": "code",
   "execution_count": 1,
   "metadata": {},
   "outputs": [],
   "source": [
    "from datetime import datetime\n",
    "import requests\n",
    "import time\n",
    "import json"
   ]
  },
  {
   "cell_type": "code",
   "execution_count": 49,
   "metadata": {},
   "outputs": [],
   "source": [
    "from influxdb_client import InfluxDBClient, Point, WritePrecision\n",
    "from influxdb_client.client.write_api import SYNCHRONOUS, WriteOptions\n",
    "\n",
    "URL_INFLUX = \"http://0.0.0.0:8086/\"\n",
    "\n",
    "# You can generate Token from the \"Tokens Tab\" in the UI\n",
    "token = \"WCkcYu0ajtEJokr0AaWMpGB2sQo6sTYE0mQAEaaJRJn25rC3rrAEMsneEbJYL-HTe77FFGaJNPsQTPdyzvMdMQ==\"\n",
    "org = \"e-lighthouse\"\n",
    "bucket = \"traffic_forecast\"\n",
    "\n",
    "client = InfluxDBClient(url=URL_INFLUX, token=token)\n",
    "#write_api = client.write_api(write_options=WriteOptions(batch_size=5000))\n",
    "write_api = client.write_api(write_options=SYNCHRONOUS)\n"
   ]
  },
  {
   "cell_type": "code",
   "execution_count": 53,
   "metadata": {},
   "outputs": [],
   "source": [
    "# Example: insert one point with two values [Working]\n",
    "now = int(datetime.now().timestamp())\n",
    "p1 = [Point('net-0').tag(\"interface\",\"if-2\").field(\"TX\", 22.0).field(\"RX\", 101.0).time(now, WritePrecision.S)]\n",
    "write_api.write(bucket=bucket, org=org, record=p1)"
   ]
  },
  {
   "cell_type": "code",
   "execution_count": 54,
   "metadata": {},
   "outputs": [],
   "source": [
    "# Example: delete data of bucker given a '_measurement' [Working]\n",
    "delete_api = client.delete_api()\n",
    "\n",
    "# Deleting data\n",
    "start = \"1970-01-01T00:00:00Z\"\n",
    "stop = \"2022-10-11T00:00:00Z\"\n",
    "delete_api.delete(start, stop, '_measurement=\"net-0\"', bucket=bucket, org=org)"
   ]
  },
  {
   "cell_type": "code",
   "execution_count": null,
   "metadata": {},
   "outputs": [],
   "source": [
    "# Example: delete data of bucket given a field\n",
    "\n",
    "# Deleting data\n",
    "start = \"1970-01-01T00:00:00Z\"\n",
    "stop = \"2022-10-11T00:00:00Z\"\n",
    "delete_api.delete(start, stop, '_measurement=\"net-0\" AND interface=\"if-2\"', bucket=bucket, org=org)"
   ]
  }
 ],
 "metadata": {
  "kernelspec": {
   "display_name": "Python 3.10.7 64-bit",
   "language": "python",
   "name": "python3"
  },
  "language_info": {
   "codemirror_mode": {
    "name": "ipython",
    "version": 3
   },
   "file_extension": ".py",
   "mimetype": "text/x-python",
   "name": "python",
   "nbconvert_exporter": "python",
   "pygments_lexer": "ipython3",
   "version": "3.10.8"
  },
  "orig_nbformat": 4,
  "vscode": {
   "interpreter": {
    "hash": "4e1d9a8909477db77738c33245c29c7265277ef753467dede8cf3f814cde494e"
   }
  }
 },
 "nbformat": 4,
 "nbformat_minor": 2
}
